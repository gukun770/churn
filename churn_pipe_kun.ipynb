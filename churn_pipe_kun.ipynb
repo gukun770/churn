{
 "cells": [
  {
   "cell_type": "code",
   "execution_count": 1,
   "metadata": {},
   "outputs": [],
   "source": [
    "%load_ext autoreload\n",
    "%autoreload 2"
   ]
  },
  {
   "cell_type": "code",
   "execution_count": 161,
   "metadata": {},
   "outputs": [],
   "source": [
    "from helper import *\n",
    "from pipe import *"
   ]
  },
  {
   "cell_type": "code",
   "execution_count": null,
   "metadata": {},
   "outputs": [],
   "source": [
    "df_train = pd.read_csv('data/churn_train.csv', parse_dates=['last_trip_date','signup_date'])\n",
    "df_test = pd.read_csv('data/churn_test.csv', parse_dates=['last_trip_date','signup_date'])"
   ]
  },
  {
   "cell_type": "code",
   "execution_count": null,
   "metadata": {},
   "outputs": [],
   "source": [
    "df_train.head()"
   ]
  },
  {
   "cell_type": "code",
   "execution_count": null,
   "metadata": {},
   "outputs": [],
   "source": [
    "df_train.dtypes"
   ]
  },
  {
   "cell_type": "code",
   "execution_count": null,
   "metadata": {},
   "outputs": [],
   "source": [
    "report_nan(df_train_post)"
   ]
  },
  {
   "cell_type": "code",
   "execution_count": null,
   "metadata": {},
   "outputs": [],
   "source": [
    "df_train.columns.tolist()"
   ]
  },
  {
   "cell_type": "markdown",
   "metadata": {},
   "source": [
    "Make labels"
   ]
  },
  {
   "cell_type": "code",
   "execution_count": null,
   "metadata": {},
   "outputs": [],
   "source": [
    "def make_label(df):\n",
    "    df['churn'] = 1\n",
    "    mask_not_churn = df_train['last_trip_date'] >= pd.to_datetime('2014-06-01')\n",
    "    df.loc[mask_not_churn, 'churn'] = 0 \n",
    "    return df, df.churn\n",
    "df_train, y_train = make_label(df_train)\n",
    "df_test, y_test = make_label(df_test)"
   ]
  },
  {
   "cell_type": "code",
   "execution_count": null,
   "metadata": {},
   "outputs": [],
   "source": [
    "df_train, y_train = make_label(df_train)\n",
    "df_test, y_test = make_label(df_test)"
   ]
  },
  {
   "cell_type": "code",
   "execution_count": null,
   "metadata": {},
   "outputs": [],
   "source": [
    "df_train_post.head()"
   ]
  },
  {
   "cell_type": "code",
   "execution_count": null,
   "metadata": {},
   "outputs": [],
   "source": [
    "df_train.churn.value_counts(1, dropna=False)"
   ]
  },
  {
   "cell_type": "code",
   "execution_count": null,
   "metadata": {},
   "outputs": [],
   "source": [
    "X = df_train\n",
    "y = y_train\n",
    "\n",
    "\n",
    "p = Pipeline([\n",
    "    ('pre_select', PreselectColumns()),\n",
    "    ('dummify', Getdummies()),\n",
    "    ('replace_nan', ReplaceNaN()),\n",
    "#     ('filter', FilterColumns()),\n",
    "#     ('type_change', DataType()),\n",
    "#     ('encod_cat', EncodingOrdinalCat()),\n",
    "#     ('regex', ExtractInfo()),\n",
    "#     ('replace_outliers', ReplaceOutliers()),\n",
    "#     ('compute_age', ComputeAge()),\n",
    "#     ('nearest_price', ComputeNearestMean()),\n",
    "#     ('interaction', Interaction()),\n",
    "    ('dropcols', DropColumns()),\n",
    "])\n",
    "m = p.fit(X,y)\n",
    "df_train_post = m.transform(X)\n",
    "df_test_post = m.transform(df_test)"
   ]
  },
  {
   "cell_type": "code",
   "execution_count": null,
   "metadata": {},
   "outputs": [],
   "source": [
    "df_test_post.head()"
   ]
  },
  {
   "cell_type": "code",
   "execution_count": null,
   "metadata": {},
   "outputs": [],
   "source": [
    "df_train_post.head()"
   ]
  },
  {
   "cell_type": "code",
   "execution_count": null,
   "metadata": {},
   "outputs": [],
   "source": [
    "df_corr = df_train_post.corr()\n",
    "show_corr('churn', df_corr, df_train, nb=7)"
   ]
  },
  {
   "cell_type": "code",
   "execution_count": null,
   "metadata": {},
   "outputs": [],
   "source": [
    "logit = LogisticRegression()\n",
    "logit = logit.fit(df_train_post, y_train)"
   ]
  },
  {
   "cell_type": "code",
   "execution_count": null,
   "metadata": {},
   "outputs": [],
   "source": [
    "test_y_pred = logit.predict(df_test_post)\n",
    "test_y_pred_proba = logit.predict_proba(df_test_post)"
   ]
  },
  {
   "cell_type": "code",
   "execution_count": null,
   "metadata": {},
   "outputs": [],
   "source": [
    "print('accuracy: ',accuracy_score(y_test, test_y_pred))\n",
    "print('precision: ',precision_score(y_test, test_y_pred))\n",
    "print('recall: ',recall_score(y_test, test_y_pred))\n",
    "print('f1: ',f1_score(y_test, test_y_pred))\n",
    "print('auc: ',roc_auc_score(y_test, test_y_pred))"
   ]
  },
  {
   "cell_type": "code",
   "execution_count": null,
   "metadata": {},
   "outputs": [],
   "source": [
    "# accuracy:  0.5545\n",
    "# precision:  0.626547933769\n",
    "# recall:  0.71772394007\n",
    "# f1:  0.669043904613\n",
    "# auc:  0.498690204066"
   ]
  },
  {
   "cell_type": "code",
   "execution_count": null,
   "metadata": {},
   "outputs": [],
   "source": []
  },
  {
   "cell_type": "code",
   "execution_count": null,
   "metadata": {},
   "outputs": [],
   "source": [
    "df_train_post.head()"
   ]
  },
  {
   "cell_type": "code",
   "execution_count": null,
   "metadata": {},
   "outputs": [],
   "source": [
    "df_test_post.head()"
   ]
  },
  {
   "cell_type": "code",
   "execution_count": null,
   "metadata": {},
   "outputs": [],
   "source": [
    "# report_categories(df_train_post)"
   ]
  },
  {
   "cell_type": "code",
   "execution_count": null,
   "metadata": {},
   "outputs": [],
   "source": [
    "report_numeric(df_train_post)"
   ]
  },
  {
   "cell_type": "code",
   "execution_count": null,
   "metadata": {},
   "outputs": [],
   "source": [
    "check_subcat_cols(df_train_post, df_test_post)"
   ]
  },
  {
   "cell_type": "code",
   "execution_count": 17,
   "metadata": {},
   "outputs": [
    {
     "data": {
      "text/html": [
       "<div>\n",
       "<style scoped>\n",
       "    .dataframe tbody tr th:only-of-type {\n",
       "        vertical-align: middle;\n",
       "    }\n",
       "\n",
       "    .dataframe tbody tr th {\n",
       "        vertical-align: top;\n",
       "    }\n",
       "\n",
       "    .dataframe thead th {\n",
       "        text-align: right;\n",
       "    }\n",
       "</style>\n",
       "<table border=\"1\" class=\"dataframe\">\n",
       "  <thead>\n",
       "    <tr style=\"text-align: right;\">\n",
       "      <th></th>\n",
       "      <th>avg_dist</th>\n",
       "      <th>avg_rating_by_driver</th>\n",
       "      <th>avg_rating_of_driver</th>\n",
       "      <th>avg_surge</th>\n",
       "      <th>city</th>\n",
       "      <th>last_trip_date</th>\n",
       "      <th>phone</th>\n",
       "      <th>signup_date</th>\n",
       "      <th>surge_pct</th>\n",
       "      <th>trips_in_first_30_days</th>\n",
       "      <th>luxury_car_user</th>\n",
       "      <th>weekday_pct</th>\n",
       "      <th>churn</th>\n",
       "    </tr>\n",
       "  </thead>\n",
       "  <tbody>\n",
       "    <tr>\n",
       "      <th>0</th>\n",
       "      <td>6.94</td>\n",
       "      <td>5.0</td>\n",
       "      <td>5.0</td>\n",
       "      <td>1.00</td>\n",
       "      <td>Astapor</td>\n",
       "      <td>2014-05-03</td>\n",
       "      <td>Android</td>\n",
       "      <td>2014-01-12</td>\n",
       "      <td>0.0</td>\n",
       "      <td>0</td>\n",
       "      <td>False</td>\n",
       "      <td>100.0</td>\n",
       "      <td>1</td>\n",
       "    </tr>\n",
       "    <tr>\n",
       "      <th>1</th>\n",
       "      <td>8.06</td>\n",
       "      <td>5.0</td>\n",
       "      <td>5.0</td>\n",
       "      <td>1.00</td>\n",
       "      <td>Astapor</td>\n",
       "      <td>2014-01-26</td>\n",
       "      <td>Android</td>\n",
       "      <td>2014-01-25</td>\n",
       "      <td>0.0</td>\n",
       "      <td>2</td>\n",
       "      <td>True</td>\n",
       "      <td>0.0</td>\n",
       "      <td>1</td>\n",
       "    </tr>\n",
       "    <tr>\n",
       "      <th>2</th>\n",
       "      <td>21.50</td>\n",
       "      <td>4.0</td>\n",
       "      <td>NaN</td>\n",
       "      <td>1.00</td>\n",
       "      <td>Winterfell</td>\n",
       "      <td>2014-05-21</td>\n",
       "      <td>iPhone</td>\n",
       "      <td>2014-01-02</td>\n",
       "      <td>0.0</td>\n",
       "      <td>1</td>\n",
       "      <td>True</td>\n",
       "      <td>100.0</td>\n",
       "      <td>1</td>\n",
       "    </tr>\n",
       "    <tr>\n",
       "      <th>3</th>\n",
       "      <td>9.46</td>\n",
       "      <td>5.0</td>\n",
       "      <td>NaN</td>\n",
       "      <td>2.75</td>\n",
       "      <td>Winterfell</td>\n",
       "      <td>2014-01-10</td>\n",
       "      <td>Android</td>\n",
       "      <td>2014-01-09</td>\n",
       "      <td>100.0</td>\n",
       "      <td>1</td>\n",
       "      <td>False</td>\n",
       "      <td>100.0</td>\n",
       "      <td>1</td>\n",
       "    </tr>\n",
       "    <tr>\n",
       "      <th>4</th>\n",
       "      <td>13.77</td>\n",
       "      <td>5.0</td>\n",
       "      <td>NaN</td>\n",
       "      <td>1.00</td>\n",
       "      <td>Winterfell</td>\n",
       "      <td>2014-05-13</td>\n",
       "      <td>iPhone</td>\n",
       "      <td>2014-01-31</td>\n",
       "      <td>0.0</td>\n",
       "      <td>0</td>\n",
       "      <td>False</td>\n",
       "      <td>100.0</td>\n",
       "      <td>1</td>\n",
       "    </tr>\n",
       "  </tbody>\n",
       "</table>\n",
       "</div>"
      ],
      "text/plain": [
       "   avg_dist  avg_rating_by_driver  avg_rating_of_driver  avg_surge  \\\n",
       "0      6.94                   5.0                   5.0       1.00   \n",
       "1      8.06                   5.0                   5.0       1.00   \n",
       "2     21.50                   4.0                   NaN       1.00   \n",
       "3      9.46                   5.0                   NaN       2.75   \n",
       "4     13.77                   5.0                   NaN       1.00   \n",
       "\n",
       "         city last_trip_date    phone signup_date  surge_pct  \\\n",
       "0     Astapor     2014-05-03  Android  2014-01-12        0.0   \n",
       "1     Astapor     2014-01-26  Android  2014-01-25        0.0   \n",
       "2  Winterfell     2014-05-21   iPhone  2014-01-02        0.0   \n",
       "3  Winterfell     2014-01-10  Android  2014-01-09      100.0   \n",
       "4  Winterfell     2014-05-13   iPhone  2014-01-31        0.0   \n",
       "\n",
       "   trips_in_first_30_days  luxury_car_user  weekday_pct  churn  \n",
       "0                       0            False        100.0      1  \n",
       "1                       2             True          0.0      1  \n",
       "2                       1             True        100.0      1  \n",
       "3                       1            False        100.0      1  \n",
       "4                       0            False        100.0      1  "
      ]
     },
     "execution_count": 17,
     "metadata": {},
     "output_type": "execute_result"
    }
   ],
   "source": [
    "df_train.head()"
   ]
  },
  {
   "cell_type": "code",
   "execution_count": 29,
   "metadata": {},
   "outputs": [],
   "source": [
    "def bin_rides(in_df):\n",
    "    if ('trips_in_first_30_days' in in_df.columns):\n",
    "    #newcols = pd.DataFrame(dict('zero':))\n",
    "        in_df['zero_rides'] = (in_df['trips_in_first_30_days'] == 0)\n",
    "        in_df['one_rides'] = in_df['trips_in_first_30_days'] == 1\n",
    "        in_df['few_rides'] = ((6> in_df['trips_in_first_30_days']) == (in_df['trips_in_first_30_days']> 1)) \n",
    "        in_df['many_rides'] = (in_df['trips_in_first_30_days'] >= 6)\n",
    "#     in_df.drop('trips_in_first_30_days', axis=1, inplace=True)\n",
    "    return in_df"
   ]
  },
  {
   "cell_type": "code",
   "execution_count": 30,
   "metadata": {},
   "outputs": [],
   "source": [
    "df_temp = bin_rides(df_train)"
   ]
  },
  {
   "cell_type": "code",
   "execution_count": 31,
   "metadata": {},
   "outputs": [
    {
     "data": {
      "text/html": [
       "<div>\n",
       "<style scoped>\n",
       "    .dataframe tbody tr th:only-of-type {\n",
       "        vertical-align: middle;\n",
       "    }\n",
       "\n",
       "    .dataframe tbody tr th {\n",
       "        vertical-align: top;\n",
       "    }\n",
       "\n",
       "    .dataframe thead th {\n",
       "        text-align: right;\n",
       "    }\n",
       "</style>\n",
       "<table border=\"1\" class=\"dataframe\">\n",
       "  <thead>\n",
       "    <tr style=\"text-align: right;\">\n",
       "      <th></th>\n",
       "      <th>avg_dist</th>\n",
       "      <th>avg_rating_by_driver</th>\n",
       "      <th>avg_rating_of_driver</th>\n",
       "      <th>avg_surge</th>\n",
       "      <th>city</th>\n",
       "      <th>last_trip_date</th>\n",
       "      <th>phone</th>\n",
       "      <th>signup_date</th>\n",
       "      <th>surge_pct</th>\n",
       "      <th>luxury_car_user</th>\n",
       "      <th>weekday_pct</th>\n",
       "      <th>churn</th>\n",
       "      <th>zero_rides</th>\n",
       "      <th>one_rides</th>\n",
       "      <th>few_rides</th>\n",
       "      <th>many_rides</th>\n",
       "    </tr>\n",
       "  </thead>\n",
       "  <tbody>\n",
       "    <tr>\n",
       "      <th>0</th>\n",
       "      <td>6.94</td>\n",
       "      <td>5.0</td>\n",
       "      <td>5.0</td>\n",
       "      <td>1.00</td>\n",
       "      <td>Astapor</td>\n",
       "      <td>2014-05-03</td>\n",
       "      <td>Android</td>\n",
       "      <td>2014-01-12</td>\n",
       "      <td>0.0</td>\n",
       "      <td>False</td>\n",
       "      <td>100.0</td>\n",
       "      <td>1</td>\n",
       "      <td>True</td>\n",
       "      <td>False</td>\n",
       "      <td>False</td>\n",
       "      <td>False</td>\n",
       "    </tr>\n",
       "    <tr>\n",
       "      <th>1</th>\n",
       "      <td>8.06</td>\n",
       "      <td>5.0</td>\n",
       "      <td>5.0</td>\n",
       "      <td>1.00</td>\n",
       "      <td>Astapor</td>\n",
       "      <td>2014-01-26</td>\n",
       "      <td>Android</td>\n",
       "      <td>2014-01-25</td>\n",
       "      <td>0.0</td>\n",
       "      <td>True</td>\n",
       "      <td>0.0</td>\n",
       "      <td>1</td>\n",
       "      <td>False</td>\n",
       "      <td>False</td>\n",
       "      <td>True</td>\n",
       "      <td>False</td>\n",
       "    </tr>\n",
       "    <tr>\n",
       "      <th>2</th>\n",
       "      <td>21.50</td>\n",
       "      <td>4.0</td>\n",
       "      <td>NaN</td>\n",
       "      <td>1.00</td>\n",
       "      <td>Winterfell</td>\n",
       "      <td>2014-05-21</td>\n",
       "      <td>iPhone</td>\n",
       "      <td>2014-01-02</td>\n",
       "      <td>0.0</td>\n",
       "      <td>True</td>\n",
       "      <td>100.0</td>\n",
       "      <td>1</td>\n",
       "      <td>False</td>\n",
       "      <td>True</td>\n",
       "      <td>False</td>\n",
       "      <td>False</td>\n",
       "    </tr>\n",
       "    <tr>\n",
       "      <th>3</th>\n",
       "      <td>9.46</td>\n",
       "      <td>5.0</td>\n",
       "      <td>NaN</td>\n",
       "      <td>2.75</td>\n",
       "      <td>Winterfell</td>\n",
       "      <td>2014-01-10</td>\n",
       "      <td>Android</td>\n",
       "      <td>2014-01-09</td>\n",
       "      <td>100.0</td>\n",
       "      <td>False</td>\n",
       "      <td>100.0</td>\n",
       "      <td>1</td>\n",
       "      <td>False</td>\n",
       "      <td>True</td>\n",
       "      <td>False</td>\n",
       "      <td>False</td>\n",
       "    </tr>\n",
       "    <tr>\n",
       "      <th>4</th>\n",
       "      <td>13.77</td>\n",
       "      <td>5.0</td>\n",
       "      <td>NaN</td>\n",
       "      <td>1.00</td>\n",
       "      <td>Winterfell</td>\n",
       "      <td>2014-05-13</td>\n",
       "      <td>iPhone</td>\n",
       "      <td>2014-01-31</td>\n",
       "      <td>0.0</td>\n",
       "      <td>False</td>\n",
       "      <td>100.0</td>\n",
       "      <td>1</td>\n",
       "      <td>True</td>\n",
       "      <td>False</td>\n",
       "      <td>False</td>\n",
       "      <td>False</td>\n",
       "    </tr>\n",
       "  </tbody>\n",
       "</table>\n",
       "</div>"
      ],
      "text/plain": [
       "   avg_dist  avg_rating_by_driver  avg_rating_of_driver  avg_surge  \\\n",
       "0      6.94                   5.0                   5.0       1.00   \n",
       "1      8.06                   5.0                   5.0       1.00   \n",
       "2     21.50                   4.0                   NaN       1.00   \n",
       "3      9.46                   5.0                   NaN       2.75   \n",
       "4     13.77                   5.0                   NaN       1.00   \n",
       "\n",
       "         city last_trip_date    phone signup_date  surge_pct  luxury_car_user  \\\n",
       "0     Astapor     2014-05-03  Android  2014-01-12        0.0            False   \n",
       "1     Astapor     2014-01-26  Android  2014-01-25        0.0             True   \n",
       "2  Winterfell     2014-05-21   iPhone  2014-01-02        0.0             True   \n",
       "3  Winterfell     2014-01-10  Android  2014-01-09      100.0            False   \n",
       "4  Winterfell     2014-05-13   iPhone  2014-01-31        0.0            False   \n",
       "\n",
       "   weekday_pct  churn  zero_rides  one_rides  few_rides  many_rides  \n",
       "0        100.0      1        True      False      False       False  \n",
       "1          0.0      1       False      False       True       False  \n",
       "2        100.0      1       False       True      False       False  \n",
       "3        100.0      1       False       True      False       False  \n",
       "4        100.0      1        True      False      False       False  "
      ]
     },
     "execution_count": 31,
     "metadata": {},
     "output_type": "execute_result"
    }
   ],
   "source": [
    "df_temp.head()"
   ]
  },
  {
   "cell_type": "markdown",
   "metadata": {},
   "source": [
    "## Basemodel"
   ]
  },
  {
   "cell_type": "code",
   "execution_count": null,
   "metadata": {},
   "outputs": [],
   "source": [
    "['trips_in_first_30_days',\n",
    " 'surge_pct',\n",
    " 'weekday_pct',\n",
    " 'avg_surge',\n",
    " 'luxury_car_user',\n",
    " 'avg_rating_by_driver',\n",
    " 'avg_rating_of_driver',\n",
    " 'avg_dist',\n",
    " 'city_Astapor',\n",
    " 'city_Winterfell',\n",
    " 'city_nan',\n",
    " 'phone_Android',\n",
    " 'phone_iPhone']"
   ]
  },
  {
   "cell_type": "code",
   "execution_count": 65,
   "metadata": {},
   "outputs": [],
   "source": [
    "df_train = pd.read_csv('data/churn_train.csv', parse_dates=['last_trip_date','signup_date'])\n",
    "df_test = pd.read_csv('data/churn_test.csv', parse_dates=['last_trip_date','signup_date'])\n",
    "\n",
    "def make_label(df):\n",
    "    df['churn'] = 1\n",
    "    mask_not_churn = df_train['last_trip_date'] >= pd.to_datetime('2014-06-01')\n",
    "    df.loc[mask_not_churn, 'churn'] = 0 \n",
    "    return df, df.churn\n",
    "\n",
    "df_train, y_train = make_label(df_train)\n",
    "df_test, y_test = make_label(df_test)"
   ]
  },
  {
   "cell_type": "code",
   "execution_count": 66,
   "metadata": {
    "scrolled": true
   },
   "outputs": [
    {
     "name": "stdout",
     "output_type": "stream",
     "text": [
      "[ 0.7593145   0.75990687  0.77089104  0.75989842  0.75948004]\n",
      "0.761898173485\n"
     ]
    }
   ],
   "source": [
    "X = df_train\n",
    "y = y_train\n",
    "\n",
    "p = Pipeline([\n",
    "    ('pre_select', PreselectColumns()),\n",
    "#     ('binAverageRatingDistance', BinAvgRatDistance()),\n",
    "    ('dummify', Getdummies()),\n",
    "    ('replace_nan', ReplaceNaN()),\n",
    "#     ('binrides', BinRides()),\n",
    "    ('dropcols', DropColumns()),\n",
    "#     ('minmax', MinMaxScaler()),\n",
    "    ('logit', LogisticRegression()),\n",
    "#     ('rf', RandomForestClassifier()),\n",
    "])\n",
    "# m = p.fit(X,y)\n",
    "# df_train_post = m.transform(X)\n",
    "# df_test_post = m.transform(df_test)\n",
    "scores = cross_val_score(p, X, y, scoring='roc_auc', cv=5)\n",
    "print(scores)\n",
    "print(scores.mean())"
   ]
  },
  {
   "cell_type": "code",
   "execution_count": 67,
   "metadata": {},
   "outputs": [
    {
     "name": "stdout",
     "output_type": "stream",
     "text": [
      "accuracy:  0.5545\n",
      "precision:  0.626547933769\n",
      "recall:  0.71772394007\n",
      "f1:  0.669043904613\n",
      "auc:  0.494986958079\n"
     ]
    }
   ],
   "source": [
    "m = p.fit(X, y)\n",
    "test_pred_proba = m.predict_proba(df_test)[:,1:]\n",
    "test_y_pred = m.predict(df_test)\n",
    "print('accuracy: ',accuracy_score(y_test, test_y_pred))\n",
    "print('precision: ',precision_score(y_test, test_y_pred))\n",
    "print('recall: ',recall_score(y_test, test_y_pred))\n",
    "print('f1: ',f1_score(y_test, test_y_pred))\n",
    "print('auc: ',roc_auc_score(y_test, test_pred_proba))"
   ]
  },
  {
   "cell_type": "code",
   "execution_count": null,
   "metadata": {},
   "outputs": [],
   "source": []
  },
  {
   "cell_type": "code",
   "execution_count": null,
   "metadata": {},
   "outputs": [],
   "source": []
  },
  {
   "cell_type": "markdown",
   "metadata": {},
   "source": [
    "## Model 2"
   ]
  },
  {
   "cell_type": "code",
   "execution_count": 139,
   "metadata": {},
   "outputs": [],
   "source": [
    "df_train = pd.read_csv('data/churn_train.csv', parse_dates=['last_trip_date','signup_date'])\n",
    "df_test = pd.read_csv('data/churn_test.csv', parse_dates=['last_trip_date','signup_date'])\n",
    "\n",
    "def make_label(df):\n",
    "    df['churn'] = 1\n",
    "    mask_not_churn = df['last_trip_date'] >= pd.to_datetime('2014-06-01')\n",
    "    df.loc[mask_not_churn, 'churn'] = 0 \n",
    "    return df, df.churn\n",
    "\n",
    "df_train, y_train = make_label(df_train)\n",
    "df_test, y_test = make_label(df_test)"
   ]
  },
  {
   "cell_type": "code",
   "execution_count": 140,
   "metadata": {
    "scrolled": true
   },
   "outputs": [
    {
     "name": "stdout",
     "output_type": "stream",
     "text": [
      "[ 0.79770957  0.79951215  0.80059998  0.79914211  0.79868668]\n",
      "0.799130097263\n"
     ]
    }
   ],
   "source": [
    "X = df_train\n",
    "y = y_train\n",
    "\n",
    "p = Pipeline([\n",
    "    ('pre_select', PreselectColumns()),\n",
    "    ('binAverageRatingDistance', BinAvgRatDistance()),\n",
    "    ('dummify', Getdummies()),\n",
    "    ('replace_nan', ReplaceNaN()),\n",
    "    ('binrides', BinRides()),\n",
    "    ('dropcols', DropColumns()),\n",
    "#     ('minmax', MinMaxScaler()),\n",
    "    ('logit', LogisticRegression()),\n",
    "#     ('rf', RandomForestClassifier()),\n",
    "])\n",
    "# m = p.fit(X,y)\n",
    "# df_train_post = m.transform(X)\n",
    "# df_test_post = m.transform(df_test)\n",
    "scores = cross_val_score(p, X, y, scoring='f1', cv=5)\n",
    "print(scores)\n",
    "print(scores.mean())"
   ]
  },
  {
   "cell_type": "code",
   "execution_count": 89,
   "metadata": {},
   "outputs": [
    {
     "data": {
      "text/html": [
       "<div>\n",
       "<style scoped>\n",
       "    .dataframe tbody tr th:only-of-type {\n",
       "        vertical-align: middle;\n",
       "    }\n",
       "\n",
       "    .dataframe tbody tr th {\n",
       "        vertical-align: top;\n",
       "    }\n",
       "\n",
       "    .dataframe thead th {\n",
       "        text-align: right;\n",
       "    }\n",
       "</style>\n",
       "<table border=\"1\" class=\"dataframe\">\n",
       "  <thead>\n",
       "    <tr style=\"text-align: right;\">\n",
       "      <th></th>\n",
       "      <th>avg_dist</th>\n",
       "      <th>luxury_car_user</th>\n",
       "      <th>weekday_pct</th>\n",
       "      <th>avg_surge</th>\n",
       "      <th>trips_in_first_30_days</th>\n",
       "      <th>avg_rating_of_driver</th>\n",
       "      <th>avg_rating_of_driver_no_rating</th>\n",
       "      <th>avg_rating_of_driver_4-5</th>\n",
       "      <th>avg_dist_0-3</th>\n",
       "      <th>avg_dist_3-10</th>\n",
       "      <th>iPhone</th>\n",
       "      <th>Astapor</th>\n",
       "      <th>Winterfell</th>\n",
       "      <th>True</th>\n",
       "      <th>city_Astapor</th>\n",
       "      <th>city_Winterfell</th>\n",
       "      <th>city_nan</th>\n",
       "      <th>phone_Android</th>\n",
       "      <th>phone_iPhone</th>\n",
       "      <th>zero_rides</th>\n",
       "      <th>one_rides</th>\n",
       "      <th>few_rides</th>\n",
       "      <th>many_rides</th>\n",
       "    </tr>\n",
       "  </thead>\n",
       "  <tbody>\n",
       "    <tr>\n",
       "      <th>0</th>\n",
       "      <td>6.94</td>\n",
       "      <td>False</td>\n",
       "      <td>100.0</td>\n",
       "      <td>1.00</td>\n",
       "      <td>0</td>\n",
       "      <td>5.0</td>\n",
       "      <td>0</td>\n",
       "      <td>1</td>\n",
       "      <td>0</td>\n",
       "      <td>1</td>\n",
       "      <td>0</td>\n",
       "      <td>1</td>\n",
       "      <td>0</td>\n",
       "      <td>0</td>\n",
       "      <td>1</td>\n",
       "      <td>0</td>\n",
       "      <td>0</td>\n",
       "      <td>1</td>\n",
       "      <td>0</td>\n",
       "      <td>True</td>\n",
       "      <td>False</td>\n",
       "      <td>False</td>\n",
       "      <td>False</td>\n",
       "    </tr>\n",
       "    <tr>\n",
       "      <th>1</th>\n",
       "      <td>8.06</td>\n",
       "      <td>True</td>\n",
       "      <td>0.0</td>\n",
       "      <td>1.00</td>\n",
       "      <td>2</td>\n",
       "      <td>5.0</td>\n",
       "      <td>0</td>\n",
       "      <td>1</td>\n",
       "      <td>0</td>\n",
       "      <td>1</td>\n",
       "      <td>0</td>\n",
       "      <td>1</td>\n",
       "      <td>0</td>\n",
       "      <td>1</td>\n",
       "      <td>1</td>\n",
       "      <td>0</td>\n",
       "      <td>0</td>\n",
       "      <td>1</td>\n",
       "      <td>0</td>\n",
       "      <td>False</td>\n",
       "      <td>False</td>\n",
       "      <td>True</td>\n",
       "      <td>False</td>\n",
       "    </tr>\n",
       "    <tr>\n",
       "      <th>2</th>\n",
       "      <td>21.50</td>\n",
       "      <td>True</td>\n",
       "      <td>100.0</td>\n",
       "      <td>1.00</td>\n",
       "      <td>1</td>\n",
       "      <td>0.0</td>\n",
       "      <td>1</td>\n",
       "      <td>0</td>\n",
       "      <td>0</td>\n",
       "      <td>0</td>\n",
       "      <td>1</td>\n",
       "      <td>0</td>\n",
       "      <td>1</td>\n",
       "      <td>1</td>\n",
       "      <td>0</td>\n",
       "      <td>1</td>\n",
       "      <td>0</td>\n",
       "      <td>0</td>\n",
       "      <td>1</td>\n",
       "      <td>False</td>\n",
       "      <td>True</td>\n",
       "      <td>False</td>\n",
       "      <td>False</td>\n",
       "    </tr>\n",
       "    <tr>\n",
       "      <th>3</th>\n",
       "      <td>9.46</td>\n",
       "      <td>False</td>\n",
       "      <td>100.0</td>\n",
       "      <td>2.75</td>\n",
       "      <td>1</td>\n",
       "      <td>0.0</td>\n",
       "      <td>1</td>\n",
       "      <td>0</td>\n",
       "      <td>0</td>\n",
       "      <td>1</td>\n",
       "      <td>0</td>\n",
       "      <td>0</td>\n",
       "      <td>1</td>\n",
       "      <td>0</td>\n",
       "      <td>0</td>\n",
       "      <td>1</td>\n",
       "      <td>0</td>\n",
       "      <td>1</td>\n",
       "      <td>0</td>\n",
       "      <td>False</td>\n",
       "      <td>True</td>\n",
       "      <td>False</td>\n",
       "      <td>False</td>\n",
       "    </tr>\n",
       "    <tr>\n",
       "      <th>4</th>\n",
       "      <td>13.77</td>\n",
       "      <td>False</td>\n",
       "      <td>100.0</td>\n",
       "      <td>1.00</td>\n",
       "      <td>0</td>\n",
       "      <td>0.0</td>\n",
       "      <td>1</td>\n",
       "      <td>0</td>\n",
       "      <td>0</td>\n",
       "      <td>0</td>\n",
       "      <td>1</td>\n",
       "      <td>0</td>\n",
       "      <td>1</td>\n",
       "      <td>0</td>\n",
       "      <td>0</td>\n",
       "      <td>1</td>\n",
       "      <td>0</td>\n",
       "      <td>0</td>\n",
       "      <td>1</td>\n",
       "      <td>True</td>\n",
       "      <td>False</td>\n",
       "      <td>False</td>\n",
       "      <td>False</td>\n",
       "    </tr>\n",
       "  </tbody>\n",
       "</table>\n",
       "</div>"
      ],
      "text/plain": [
       "   avg_dist  luxury_car_user  weekday_pct  avg_surge  trips_in_first_30_days  \\\n",
       "0      6.94            False        100.0       1.00                       0   \n",
       "1      8.06             True          0.0       1.00                       2   \n",
       "2     21.50             True        100.0       1.00                       1   \n",
       "3      9.46            False        100.0       2.75                       1   \n",
       "4     13.77            False        100.0       1.00                       0   \n",
       "\n",
       "   avg_rating_of_driver  avg_rating_of_driver_no_rating  \\\n",
       "0                   5.0                               0   \n",
       "1                   5.0                               0   \n",
       "2                   0.0                               1   \n",
       "3                   0.0                               1   \n",
       "4                   0.0                               1   \n",
       "\n",
       "   avg_rating_of_driver_4-5  avg_dist_0-3  avg_dist_3-10  iPhone  Astapor  \\\n",
       "0                         1             0              1       0        1   \n",
       "1                         1             0              1       0        1   \n",
       "2                         0             0              0       1        0   \n",
       "3                         0             0              1       0        0   \n",
       "4                         0             0              0       1        0   \n",
       "\n",
       "   Winterfell  True  city_Astapor  city_Winterfell  city_nan  phone_Android  \\\n",
       "0           0     0             1                0         0              1   \n",
       "1           0     1             1                0         0              1   \n",
       "2           1     1             0                1         0              0   \n",
       "3           1     0             0                1         0              1   \n",
       "4           1     0             0                1         0              0   \n",
       "\n",
       "   phone_iPhone  zero_rides  one_rides  few_rides  many_rides  \n",
       "0             0        True      False      False       False  \n",
       "1             0       False      False       True       False  \n",
       "2             1       False       True      False       False  \n",
       "3             0       False       True      False       False  \n",
       "4             1        True      False      False       False  "
      ]
     },
     "execution_count": 89,
     "metadata": {},
     "output_type": "execute_result"
    }
   ],
   "source": [
    "df_train_post.head()"
   ]
  },
  {
   "cell_type": "code",
   "execution_count": 171,
   "metadata": {},
   "outputs": [
    {
     "name": "stdout",
     "output_type": "stream",
     "text": [
      "accuracy:  0.7701\n",
      "precision:  0.790907744706\n",
      "recall:  0.857578676943\n",
      "f1:  0.822895000385\n",
      "auc:  0.837151864702\n"
     ]
    }
   ],
   "source": [
    "m = p.fit(X, y)\n",
    "test_pred_proba = m.predict_proba(df_test)[:,1:]\n",
    "test_y_pred = m.predict(df_test)\n",
    "print('accuracy: ',accuracy_score(y_test, test_y_pred))\n",
    "print('precision: ',precision_score(y_test, test_y_pred))\n",
    "print('recall: ',recall_score(y_test, test_y_pred))\n",
    "print('f1: ',f1_score(y_test, test_y_pred))\n",
    "print('auc: ',roc_auc_score(y_test, test_pred_proba))"
   ]
  },
  {
   "cell_type": "code",
   "execution_count": 172,
   "metadata": {},
   "outputs": [],
   "source": [
    "(tn, fp, fn, tp) = confusion_matrix(y_test, test_y_pred).ravel()"
   ]
  },
  {
   "cell_type": "code",
   "execution_count": 173,
   "metadata": {},
   "outputs": [
    {
     "name": "stdout",
     "output_type": "stream",
     "text": [
      "5341 1412\n",
      "887 2360\n"
     ]
    }
   ],
   "source": [
    "print(tp, fp)\n",
    "print(fn, tn)"
   ]
  },
  {
   "cell_type": "markdown",
   "metadata": {},
   "source": [
    "## Model 3"
   ]
  },
  {
   "cell_type": "code",
   "execution_count": 150,
   "metadata": {},
   "outputs": [],
   "source": [
    "df_train = pd.read_csv('data/churn_train.csv', parse_dates=['last_trip_date','signup_date'])\n",
    "df_test = pd.read_csv('data/churn_test.csv', parse_dates=['last_trip_date','signup_date'])\n",
    "\n",
    "def make_label(df):\n",
    "    df['churn'] = 1\n",
    "    mask_not_churn = df['last_trip_date'] >= pd.to_datetime('2014-06-01')\n",
    "    df.loc[mask_not_churn, 'churn'] = 0 \n",
    "    return df, df.churn\n",
    "\n",
    "df_train, y_train = make_label(df_train)\n",
    "df_test, y_test = make_label(df_test)"
   ]
  },
  {
   "cell_type": "code",
   "execution_count": 151,
   "metadata": {
    "scrolled": true
   },
   "outputs": [
    {
     "name": "stdout",
     "output_type": "stream",
     "text": [
      "[ 0.78179242  0.78219853  0.791421    0.78260706  0.77945438]\n",
      "0.78349467779\n"
     ]
    }
   ],
   "source": [
    "X = df_train\n",
    "y = y_train\n",
    "\n",
    "p = Pipeline([\n",
    "    ('pre_select', PreselectColumns()),\n",
    "    ('binAverageRatingDistance', BinAvgRatDistance()),\n",
    "    ('dummify', Getdummies()),\n",
    "    ('replace_nan', ReplaceNaN()),\n",
    "    ('binrides', BinRides()),\n",
    "    ('dropcols', DropColumns()),\n",
    "#     ('minmax', MinMaxScaler()),\n",
    "    ('logit', LogisticRegression()),\n",
    "#     ('rf', RandomForestClassifier()),\n",
    "])\n",
    "# m = p.fit(X,y)\n",
    "# df_train_post = m.transform(X)\n",
    "# df_test_post = m.transform(df_test)\n",
    "scores = cross_val_score(p, X, y, scoring='roc_auc', cv=5)\n",
    "print(scores)\n",
    "print(scores.mean())"
   ]
  },
  {
   "cell_type": "code",
   "execution_count": 152,
   "metadata": {},
   "outputs": [
    {
     "name": "stdout",
     "output_type": "stream",
     "text": [
      "accuracy:  0.722\n",
      "precision:  0.74268018018\n",
      "recall:  0.847141939627\n",
      "f1:  0.791479147915\n",
      "auc:  0.775302383584\n"
     ]
    }
   ],
   "source": [
    "logit = p.fit(X, y)\n",
    "test_pred_proba = logit.predict_proba(df_test)[:,1:]\n",
    "test_y_pred = logit.predict(df_test)\n",
    "print('accuracy: ',accuracy_score(y_test, test_y_pred))\n",
    "print('precision: ',precision_score(y_test, test_y_pred))\n",
    "print('recall: ',recall_score(y_test, test_y_pred))\n",
    "print('f1: ',f1_score(y_test, test_y_pred))\n",
    "print('auc: ',roc_auc_score(y_test, test_pred_proba))"
   ]
  },
  {
   "cell_type": "code",
   "execution_count": null,
   "metadata": {},
   "outputs": [],
   "source": []
  },
  {
   "cell_type": "markdown",
   "metadata": {},
   "source": [
    "## RandomForest"
   ]
  },
  {
   "cell_type": "code",
   "execution_count": 144,
   "metadata": {},
   "outputs": [],
   "source": [
    "df_train = pd.read_csv('data/churn_train.csv', parse_dates=['last_trip_date','signup_date'])\n",
    "df_test = pd.read_csv('data/churn_test.csv', parse_dates=['last_trip_date','signup_date'])\n",
    "\n",
    "def make_label(df):\n",
    "    df['churn'] = 1\n",
    "    mask_not_churn = df['last_trip_date'] >= pd.to_datetime('2014-06-01')\n",
    "    df.loc[mask_not_churn, 'churn'] = 0 \n",
    "    return df, df.churn\n",
    "\n",
    "df_train, y_train = make_label(df_train)\n",
    "df_test, y_test = make_label(df_test)"
   ]
  },
  {
   "cell_type": "code",
   "execution_count": 155,
   "metadata": {
    "scrolled": true
   },
   "outputs": [],
   "source": [
    "X = df_train\n",
    "y = y_train\n",
    "\n",
    "p = Pipeline([\n",
    "    ('pre_select', PreselectColumns()),\n",
    "    ('binAverageRatingDistance', BinAvgRatDistance()),\n",
    "    ('dummify', Getdummies()),\n",
    "    ('replace_nan', ReplaceNaN()),\n",
    "    ('binrides', BinRides()),\n",
    "    ('dropcols', DropColumns()),\n",
    "#     ('minmax', MinMaxScaler()),\n",
    "#     ('logit', LogisticRegression()),\n",
    "    ('rf', RandomForestClassifier(n_estimators=1000)),\n",
    "])\n",
    "# m = p.fit(X,y)\n",
    "# df_train_post = m.transform(X)\n",
    "# df_test_post = m.transform(df_test)\n",
    "# scores = cross_val_score(p, X, y, scoring='roc_auc', cv=5)\n",
    "# print(scores)\n",
    "# print(scores.mean())"
   ]
  },
  {
   "cell_type": "code",
   "execution_count": 156,
   "metadata": {},
   "outputs": [
    {
     "name": "stdout",
     "output_type": "stream",
     "text": [
      "accuracy:  0.7312\n",
      "precision:  0.779886148008\n",
      "recall:  0.791907514451\n",
      "f1:  0.785850860421\n",
      "auc:  0.799063520134\n"
     ]
    }
   ],
   "source": [
    "rf = p.fit(X, y)\n",
    "test_pred_proba = rf.predict_proba(df_test)[:,1:]\n",
    "test_y_pred = rf.predict(df_test)\n",
    "print('accuracy: ',accuracy_score(y_test, test_y_pred))\n",
    "print('precision: ',precision_score(y_test, test_y_pred))\n",
    "print('recall: ',recall_score(y_test, test_y_pred))\n",
    "print('f1: ',f1_score(y_test, test_y_pred))\n",
    "print('auc: ',roc_auc_score(y_test, test_pred_proba))"
   ]
  },
  {
   "cell_type": "code",
   "execution_count": null,
   "metadata": {},
   "outputs": [],
   "source": []
  },
  {
   "cell_type": "code",
   "execution_count": 162,
   "metadata": {},
   "outputs": [],
   "source": [
    "from sklearn.ensemble import RandomForestClassifier, AdaBoostClassifier"
   ]
  },
  {
   "cell_type": "code",
   "execution_count": 144,
   "metadata": {},
   "outputs": [],
   "source": [
    "df_train = pd.read_csv('data/churn_train.csv', parse_dates=['last_trip_date','signup_date'])\n",
    "df_test = pd.read_csv('data/churn_test.csv', parse_dates=['last_trip_date','signup_date'])\n",
    "\n",
    "def make_label(df):\n",
    "    df['churn'] = 1\n",
    "    mask_not_churn = df['last_trip_date'] >= pd.to_datetime('2014-06-01')\n",
    "    df.loc[mask_not_churn, 'churn'] = 0 \n",
    "    return df, df.churn\n",
    "\n",
    "df_train, y_train = make_label(df_train)\n",
    "df_test, y_test = make_label(df_test)"
   ]
  },
  {
   "cell_type": "code",
   "execution_count": 165,
   "metadata": {
    "scrolled": true
   },
   "outputs": [],
   "source": [
    "X = df_train\n",
    "y = y_train\n",
    "\n",
    "p = Pipeline([\n",
    "    ('pre_select', PreselectColumns()),\n",
    "    ('binAverageRatingDistance', BinAvgRatDistance()),\n",
    "    ('dummify', Getdummies()),\n",
    "    ('replace_nan', ReplaceNaN()),\n",
    "    ('binrides', BinRides()),\n",
    "    ('dropcols', DropColumns()),\n",
    "#     ('minmax', MinMaxScaler()),\n",
    "#     ('logit', LogisticRegression()),\n",
    "    ('ad', AdaBoostClassifier(n_estimators=1000)),\n",
    "])\n",
    "# m = p.fit(X,y)\n",
    "# df_train_post = m.transform(X)\n",
    "# df_test_post = m.transform(df_test)\n",
    "# scores = cross_val_score(p, X, y, scoring='roc_auc', cv=5)\n",
    "# print(scores)\n",
    "# print(scores.mean())"
   ]
  },
  {
   "cell_type": "code",
   "execution_count": 166,
   "metadata": {},
   "outputs": [
    {
     "name": "stdout",
     "output_type": "stream",
     "text": [
      "accuracy:  0.7701\n",
      "precision:  0.790907744706\n",
      "recall:  0.857578676943\n",
      "f1:  0.822895000385\n",
      "auc:  0.837151864702\n"
     ]
    }
   ],
   "source": [
    "ad = p.fit(X, y)\n",
    "test_pred_proba = ad.predict_proba(df_test)[:,1:]\n",
    "test_y_pred = ad.predict(df_test)\n",
    "print('accuracy: ',accuracy_score(y_test, test_y_pred))\n",
    "print('precision: ',precision_score(y_test, test_y_pred))\n",
    "print('recall: ',recall_score(y_test, test_y_pred))\n",
    "print('f1: ',f1_score(y_test, test_y_pred))\n",
    "print('auc: ',roc_auc_score(y_test, test_pred_proba))"
   ]
  },
  {
   "cell_type": "code",
   "execution_count": null,
   "metadata": {},
   "outputs": [],
   "source": []
  },
  {
   "cell_type": "code",
   "execution_count": 170,
   "metadata": {},
   "outputs": [
    {
     "data": {
      "image/png": "[encoded data removed]",
      "text/plain": [
       "<matplotlib.figure.Figure at 0x11833c518>"
      ]
     },
     "metadata": {},
     "output_type": "display_data"
    }
   ],
   "source": [
    " #calculate the fpr and tpr for all thresholds of the classification\n",
    "probs = logit.predict_proba(df_test)\n",
    "preds = probs[:,1]\n",
    "fpr, tpr, threshold = roc_curve(y_test, preds)\n",
    "roc_auc = auc(fpr, tpr)\n",
    "\n",
    "probs1 = rf.predict_proba(df_test)\n",
    "preds1 = probs1[:,1]\n",
    "fpr1, tpr1, threshold1 = roc_curve(y_test, preds1)\n",
    "roc_auc1 = auc(fpr1, tpr1)\n",
    "\n",
    "probs3 = ad.predict_proba(df_test)\n",
    "preds3 = probs3[:,1]\n",
    "fpr3, tpr3, threshold1 = roc_curve(y_test, preds3)\n",
    "roc_auc3 = auc(fpr3, tpr3)\n",
    "\n",
    "# method I: plt\n",
    "import matplotlib.pyplot as plt\n",
    "plt.title('Receiver Operating Characteristic')\n",
    "plt.plot(fpr, tpr, 'b', label = 'Logit :AUC = %0.2f' % roc_auc)\n",
    "plt.plot(fpr1, tpr1, 'g', label = 'RandomForest :AUC = %0.2f' % roc_auc1)\n",
    "plt.plot(fpr3, tpr3, 'r', label = 'Adaboosting :AUC = %0.2f' % roc_auc3)\n",
    "plt.legend(loc = 'lower right')\n",
    "plt.plot([0, 1], [0, 1],'r--')\n",
    "plt.xlim([0, 1])\n",
    "plt.ylim([0, 1])\n",
    "plt.ylabel('True Positive Rate')\n",
    "plt.xlabel('False Positive Rate')\n",
    "plt.show()"
   ]
  },
  {
   "cell_type": "markdown",
   "metadata": {},
   "source": [
    "## Model 4"
   ]
  },
  {
   "cell_type": "code",
   "execution_count": 124,
   "metadata": {},
   "outputs": [],
   "source": [
    "mycol = df_train_post.columns.tolist()"
   ]
  },
  {
   "cell_type": "code",
   "execution_count": 133,
   "metadata": {},
   "outputs": [],
   "source": [
    "mycol.remove(True)"
   ]
  },
  {
   "cell_type": "code",
   "execution_count": 134,
   "metadata": {},
   "outputs": [
    {
     "data": {
      "text/plain": [
       "['avg_dist',\n",
       " 'luxury_car_user',\n",
       " 'weekday_pct',\n",
       " 'avg_surge',\n",
       " 'trips_in_first_30_days',\n",
       " 'avg_rating_of_driver',\n",
       " 'avg_rating_of_driver_no_rating',\n",
       " 'avg_rating_of_driver_4-5',\n",
       " 'avg_dist_0-3',\n",
       " 'avg_dist_3-10',\n",
       " 'iPhone',\n",
       " 'city_Astapor',\n",
       " 'city_Winterfell',\n",
       " 'city_nan',\n",
       " 'phone_Android',\n",
       " 'phone_iPhone',\n",
       " 'zero_rides',\n",
       " 'one_rides',\n",
       " 'few_rides',\n",
       " 'many_rides']"
      ]
     },
     "execution_count": 134,
     "metadata": {},
     "output_type": "execute_result"
    }
   ],
   "source": [
    "mycol"
   ]
  },
  {
   "cell_type": "code",
   "execution_count": null,
   "metadata": {},
   "outputs": [],
   "source": []
  }
 ],
 "metadata": {
  "kernelspec": {
   "display_name": "Python 3",
   "language": "python",
   "name": "python3"
  },
  "language_info": {
   "codemirror_mode": {
    "name": "ipython",
    "version": 3
   },
   "file_extension": ".py",
   "mimetype": "text/x-python",
   "name": "python",
   "nbconvert_exporter": "python",
   "pygments_lexer": "ipython3",
   "version": "3.6.4"
  }
 },
 "nbformat": 4,
 "nbformat_minor": 2
}
